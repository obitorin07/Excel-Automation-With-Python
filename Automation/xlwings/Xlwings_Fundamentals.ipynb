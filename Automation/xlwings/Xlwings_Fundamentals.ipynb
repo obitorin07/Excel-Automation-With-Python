{
 "cells": [
  {
   "cell_type": "code",
   "execution_count": 23,
   "id": "6e81d4c6-9581-4fdc-89ee-7af1c26d7c7f",
   "metadata": {},
   "outputs": [],
   "source": [
    "import pandas as pd\n",
    "import xlwings as xl\n",
    "from dotenv import dotenv_values\n",
    "import time"
   ]
  },
  {
   "cell_type": "code",
   "execution_count": 15,
   "id": "e0dd4415-78ac-4be4-9ba0-e82b5a3e633c",
   "metadata": {},
   "outputs": [],
   "source": [
    "file_path = r\"C:\\Users\\kiran\\Downloads\\Adidas US Sales Datasets.xlsx\""
   ]
  },
  {
   "cell_type": "markdown",
   "id": "1de1e99c-36a0-4d93-adfa-1f0910ff978e",
   "metadata": {},
   "source": [
    "## Find Last Row"
   ]
  },
  {
   "cell_type": "code",
   "execution_count": 35,
   "id": "96048fee-09a2-48b1-bf45-6b0755530108",
   "metadata": {},
   "outputs": [
    {
     "name": "stdout",
     "output_type": "stream",
     "text": [
      "9649\n",
      "9649\n"
     ]
    }
   ],
   "source": [
    "with xl.App(visible=True, add_book=False) as app:\n",
    "    wb = app.books.open(file_path)\n",
    "    sheet = wb.sheets[0]\n",
    "    \n",
    "    ### first_method_to_find_last_row\n",
    "    last_row = sheet.range('A2').end('down').row\n",
    "    print(last_row)\n",
    "    \n",
    "    ### second method to find last row\n",
    "    last =  sheet.used_range.last_cell.row \n",
    "    print(last)\n",
    "    \n",
    "    time.sleep(10)\n",
    "    "
   ]
  },
  {
   "cell_type": "markdown",
   "id": "e72bc0e5-c745-4029-8b0b-1e37a3e745e2",
   "metadata": {},
   "source": [
    "## Find Last Column"
   ]
  },
  {
   "cell_type": "code",
   "execution_count": 53,
   "id": "32bbee21-527d-4976-9941-f20d8a248b3c",
   "metadata": {},
   "outputs": [
    {
     "name": "stdout",
     "output_type": "stream",
     "text": [
      "M\n"
     ]
    }
   ],
   "source": [
    "with xl.App(visible = True , add_book=False) as app:\n",
    "    wb =  app.books.open(file_path)\n",
    "    sheet = wb.sheets[0]\n",
    "    ##last column number find out \n",
    "    last_column = sheet.range('A1').end('right').column\n",
    "\n",
    "    #this chr function used to convert number to character from ascii \n",
    "    print(chr(64 + last_column))\n",
    "    time.sleep(10)"
   ]
  },
  {
   "cell_type": "markdown",
   "id": "1fc8db00-beba-4989-874a-b2ada27a7aa4",
   "metadata": {},
   "source": [
    "## Converting to Pandas and Doing Some Manipulation"
   ]
  },
  {
   "cell_type": "code",
   "execution_count": 96,
   "id": "901db056-69f8-447e-bebc-b73656c6a174",
   "metadata": {},
   "outputs": [
    {
     "name": "stdout",
     "output_type": "stream",
     "text": [
      "Number of rows: 9648\n",
      "Number of columns: 13\n"
     ]
    }
   ],
   "source": [
    "with xl.App(visible=True , add_book=False) as app: \n",
    "    wb = app.books.open(file_path)\n",
    "    sheet = wb.sheets[0]\n",
    "    df = sheet.range('A1').expand().options(pd.DataFrame , index = False).value\n",
    "    print(f'Number of rows: {df.shape[0]}')\n",
    "    print(f'Number of columns: {df.shape[1]}')\n",
    "    # time.sleep(10)\n",
    "    # print(df['Retailer'].unique())\n",
    "    filtered_amazon = df[df[\"Retailer\"].str.contains('Amazon')]\n",
    "    # print(amazon.shape)\n",
    "    wb.sheets.add('Amazon_data')\n",
    "    amazon_sheet =  wb.sheets['Amazon_data']\n",
    "    amazon_sheet.range('A1').value =  filtered_amazon\n",
    "    time.sleep(30)"
   ]
  },
  {
   "cell_type": "code",
   "execution_count": null,
   "id": "b0ce944d-df19-4b61-aaca-87bcea5d5c7b",
   "metadata": {},
   "outputs": [],
   "source": []
  }
 ],
 "metadata": {
  "kernelspec": {
   "display_name": "Python 3 (ipykernel)",
   "language": "python",
   "name": "python3"
  },
  "language_info": {
   "codemirror_mode": {
    "name": "ipython",
    "version": 3
   },
   "file_extension": ".py",
   "mimetype": "text/x-python",
   "name": "python",
   "nbconvert_exporter": "python",
   "pygments_lexer": "ipython3",
   "version": "3.12.7"
  }
 },
 "nbformat": 4,
 "nbformat_minor": 5
}
